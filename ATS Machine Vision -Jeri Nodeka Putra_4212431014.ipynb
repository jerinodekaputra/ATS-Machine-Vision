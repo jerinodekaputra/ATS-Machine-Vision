{
 "cells": [
  {
   "cell_type": "code",
   "execution_count": 1,
   "id": "9e2c46cd-1a50-4890-af90-5b3fdecb3c9a",
   "metadata": {},
   "outputs": [],
   "source": [
    "import numpy as np\n",
    "import matplotlib.pyplot as plt \n",
    "import pandas as pd\n",
    "from sklearn import datasets\n",
    "from skimage.feature import hog\n",
    "from sklearn.svm import SVC\n",
    "from sklearn.model_selection import LeaveOneOut"
   ]
  },
  {
   "cell_type": "markdown",
   "id": "55c03b8c-29e6-49af-873c-76668f597d4b",
   "metadata": {},
   "source": [
    "Dataset MNIST location after download"
   ]
  },
  {
   "cell_type": "code",
   "execution_count": 2,
   "id": "6c1b2a35-ae30-4199-ab6b-b7497cf3e552",
   "metadata": {},
   "outputs": [
    {
     "name": "stdout",
     "output_type": "stream",
     "text": [
      "emnist-bymerge-mapping.txt\n",
      "emnist-bymerge-test.csv\n",
      "emnist-bymerge-train.csv\n"
     ]
    }
   ],
   "source": [
    "!ls '../HP/ats-machine vision"
   ]
  },
  {
   "cell_type": "markdown",
   "id": "f7909401-3db0-4f81-b9ee-15e5fda3a46d",
   "metadata": {},
   "source": [
    "Load MNIST dataset from Folder"
   ]
  },
  {
   "cell_type": "code",
   "execution_count": 3,
   "id": "03996098-f8a2-42fd-94d1-352f40c6155b",
   "metadata": {},
   "outputs": [],
   "source": [
    "train_dataset = pd.read_csv('../HP/ats-machine vision/emnist-bymerge-train.csv')"
   ]
  },
  {
   "cell_type": "code",
   "execution_count": 4,
   "id": "6e2cbbeb-2290-47f9-99c2-9168054fa4b0",
   "metadata": {},
   "outputs": [],
   "source": [
    "test_dataset = pd.read_csv('../HP/ats-machine vision/emnist-bymerge-test.csv')"
   ]
  },
  {
   "cell_type": "code",
   "execution_count": 5,
   "id": "51fe8ca4-f6a2-40b2-b0da-9a255ece6a58",
   "metadata": {},
   "outputs": [],
   "source": [
    "label_map_dataset = pd.read_csv('../HP/ats-machine vision/emnist-bymerge-mapping.txt', sep='\\\\s+', header=None)"
   ]
  },
  {
   "cell_type": "markdown",
   "id": "4e7518c4-4b24-4ebf-83c4-28f54aedf2e0",
   "metadata": {},
   "source": [
    "CSV File Mapping"
   ]
  },
  {
   "cell_type": "code",
   "execution_count": 6,
   "id": "28dbe4ee-fd52-4641-bfeb-6af1e6871b5d",
   "metadata": {},
   "outputs": [],
   "source": [
    "mapping_dict = {row[0]: chr(row[1]) for _, row in label_map_dataset.iterrows()}\n",
    "\n",
    "train_images = np.array(train_dataset.iloc[:,1:].values)\n",
    "train_labels = np.array(train_dataset.iloc[:,0].values)\n",
    "\n",
    "test_images = np.array(test_dataset.iloc[:,1:].values)\n",
    "test_labels = np.array(test_dataset.iloc[:,0].values)"
   ]
  },
  {
   "cell_type": "markdown",
   "id": "70f27149-ed11-47a8-ad26-be625345ffa3",
   "metadata": {},
   "source": [
    "Image MNIST display"
   ]
  },
  {
   "cell_type": "code",
   "execution_count": 7,
   "id": "cd104c1b-b07b-4dfe-be65-5bf3cbc42950",
   "metadata": {},
   "outputs": [
    {
     "data": {
      "text/plain": [
       "<matplotlib.image.AxesImage at 0x1ebae97fce0>"
      ]
     },
     "execution_count": 7,
     "metadata": {},
     "output_type": "execute_result"
    },
    {
     "data": {
      "image/png": "[encoded data removed]",
      "text/plain": [
       "<Figure size 640x480 with 1 Axes>"
      ]
     },
     "metadata": {},
     "output_type": "display_data"
    }
   ],
   "source": [
    "plt.imshow(train_images[14].reshape(28,28), cmap='gray')"
   ]
  },
  {
   "cell_type": "code",
   "execution_count": 8,
   "id": "9d57cabb-962b-4a53-a213-1f4b6be2a7ca",
   "metadata": {},
   "outputs": [
    {
     "data": {
      "text/plain": [
       "(1000, 784)"
      ]
     },
     "execution_count": 8,
     "metadata": {},
     "output_type": "execute_result"
    }
   ],
   "source": [
    "train_images.shape"
   ]
  },
  {
   "cell_type": "markdown",
   "id": "657fe4c6-2dda-420e-a1b4-d2b2d601df20",
   "metadata": {},
   "source": [
    "Image MNIST Rotate"
   ]
  },
  {
   "cell_type": "code",
   "execution_count": 9,
   "id": "42584673-6e89-44bc-af90-c0c65aee33ca",
   "metadata": {},
   "outputs": [],
   "source": [
    "def rotate(train_images):\n",
    "    train_images = train_images.reshape([28, 28])\n",
    "    train_images = np.fliplr(train_images)\n",
    "    train_images = np.rot90(train_images)\n",
    "    return train_images.flatten()\n",
    "\n",
    "X_train = np.apply_along_axis(rotate, 1, train_images)\n",
    "X_test = np.apply_along_axis(rotate, 1, test_images)"
   ]
  },
  {
   "cell_type": "code",
   "execution_count": 10,
   "id": "53237fb6-6fd1-4779-9697-4028c76593c3",
   "metadata": {},
   "outputs": [
    {
     "data": {
      "text/plain": [
       "<matplotlib.image.AxesImage at 0x1ebb448c3b0>"
      ]
     },
     "execution_count": 10,
     "metadata": {},
     "output_type": "execute_result"
    },
    {
     "data": {
      "image/png": "[encoded data removed]",
      "text/plain": [
       "<Figure size 640x480 with 1 Axes>"
      ]
     },
     "metadata": {},
     "output_type": "display_data"
    }
   ],
   "source": [
    "plt.imshow(X_train[14].reshape(28,28), cmap='gray')"
   ]
  },
  {
   "cell_type": "markdown",
   "id": "ee92184d-c4f4-483d-b3c5-0f0dccf336a9",
   "metadata": {},
   "source": [
    "Extract HOG feature from image"
   ]
  },
  {
   "cell_type": "code",
   "execution_count": 11,
   "id": "fe45e600-aa30-4434-9180-bfad535477ef",
   "metadata": {},
   "outputs": [],
   "source": [
    "feature, hog_images = hog(train_images[14].reshape(28,28),orientations=9,pixels_per_cell=(8,8),cells_per_block=(2,2),visualize=True,block_norm='L2')"
   ]
  },
  {
   "cell_type": "markdown",
   "id": "8d7ab215-d070-4132-bca6-9afdb9a3006f",
   "metadata": {},
   "source": [
    "Process Image by using HOG Feature Extraction"
   ]
  },
  {
   "cell_type": "code",
   "execution_count": 12,
   "id": "9804f8fc-663b-460c-84b6-9f4801b0c9a3",
   "metadata": {},
   "outputs": [],
   "source": [
    "n_dims = feature.shape[0]\n",
    "n_samples = train_images.shape[0]"
   ]
  },
  {
   "cell_type": "markdown",
   "id": "a91d8a94-52ae-4600-a55f-c320813e5c03",
   "metadata": {},
   "source": [
    "Create Variable Dataset"
   ]
  },
  {
   "cell_type": "code",
   "execution_count": 13,
   "id": "cfe732c7-3a50-4f4a-8d3c-7cc04cd79943",
   "metadata": {},
   "outputs": [],
   "source": [
    "X_train_hog, y_train = datasets.make_classification(n_samples=n_samples, n_features=n_dims)"
   ]
  },
  {
   "cell_type": "code",
   "execution_count": 14,
   "id": "9e43a029-ab97-42f6-83bc-2068b073f91f",
   "metadata": {},
   "outputs": [],
   "source": [
    "from skimage.feature import hog\n",
    "def extract_hog_features(train_images, pixels_per_cell=(8, 8), cells_per_block=(2, 2), orientations=9):\n",
    "    hog_features = []\n",
    "    \n",
    "    for i in range (n_samples):\n",
    "        features = hog(train_images[i].reshape(28,28), orientations=orientations, pixels_per_cell=pixels_per_cell,\n",
    "                       cells_per_block=cells_per_block, block_norm='L2')\n",
    "        hog_features.append(features)\n",
    "    return np.array(hog_features)"
   ]
  },
  {
   "cell_type": "code",
   "execution_count": 15,
   "id": "c8e825fb-751f-4dae-b8be-e632255500b6",
   "metadata": {},
   "outputs": [],
   "source": [
    "hog_train = extract_hog_features(X_train)\n",
    "hog_test = extract_hog_features(X_test)"
   ]
  },
  {
   "cell_type": "code",
   "execution_count": 16,
   "id": "d856175c-3a1d-48c3-8dc5-bfe55f4bc0b3",
   "metadata": {},
   "outputs": [
    {
     "data": {
      "text/plain": [
       "(1000, 144)"
      ]
     },
     "execution_count": 16,
     "metadata": {},
     "output_type": "execute_result"
    }
   ],
   "source": [
    "hog_train.shape"
   ]
  },
  {
   "cell_type": "markdown",
   "id": "974f8501-f56e-486d-9974-c9e2c8d1e207",
   "metadata": {},
   "source": [
    "SVM Classifier and LOOCV Evaluation"
   ]
  },
  {
   "cell_type": "code",
   "execution_count": 17,
   "id": "d4e0edb3-6ec0-4f88-aea9-0bacd80a967a",
   "metadata": {},
   "outputs": [],
   "source": [
    "from sklearn.preprocessing import StandardScaler\n",
    "\n",
    "scaler = StandardScaler()\n",
    "X_train_hog = scaler.fit_transform(hog_train)\n",
    "X_test_hog = scaler.transform(hog_test)\n",
    "\n",
    "cv = LeaveOneOut()\n",
    "svm_model = SVC(kernel='rbf', C=1, gamma='scale', random_state=42)\n",
    "\n",
    "y_true = []\n",
    "y_pred = []"
   ]
  },
  {
   "cell_type": "markdown",
   "id": "47decd63-e422-4614-8e9c-88d4f5b41583",
   "metadata": {},
   "source": [
    "LOOCV"
   ]
  },
  {
   "cell_type": "code",
   "execution_count": 18,
   "id": "831a0261-4285-4f4b-b8e2-ef1e724886fa",
   "metadata": {},
   "outputs": [],
   "source": [
    "for train_index, test_index in cv.split(X_train_hog):\n",
    "    X_train, X_test = X_train_hog[train_index], X_test_hog[test_index]\n",
    "    y_train, y_test = train_labels[train_index], test_labels[test_index]\n",
    "\n",
    "    svm_model.fit(X_train, y_train)\n",
    "    \n",
    "    prediction = svm_model.predict(X_test)\n",
    "    \n",
    "    y_true.append(y_test[0])\n",
    "    y_pred.append(prediction[0])"
   ]
  },
  {
   "cell_type": "markdown",
   "id": "06f01ed7-0c76-4699-a69f-3149d825742f",
   "metadata": {},
   "source": [
    "Evaluation Metrics"
   ]
  },
  {
   "cell_type": "code",
   "execution_count": 19,
   "id": "135c9ea8-059f-4bab-9554-5227cf85e507",
   "metadata": {},
   "outputs": [],
   "source": [
    "from sklearn.metrics import confusion_matrix, accuracy_score, precision_score, f1_score\n"
   ]
  },
  {
   "cell_type": "markdown",
   "id": "412f8b64-0587-48c4-b904-ed89d007bd9a",
   "metadata": {},
   "source": [
    "Confussion Matrix"
   ]
  },
  {
   "cell_type": "code",
   "execution_count": 20,
   "id": "a429aafe-9326-4057-b6ba-6d9c2f345435",
   "metadata": {},
   "outputs": [],
   "source": [
    "confussion_matrix = confusion_matrix(test_labels,y_pred)"
   ]
  },
  {
   "cell_type": "code",
   "execution_count": 21,
   "id": "34fc8605-4a19-4438-b793-27f636e95caa",
   "metadata": {},
   "outputs": [
    {
     "name": "stdout",
     "output_type": "stream",
     "text": [
      "Test Confusion Matrix:\n",
      " [[ 9  1  0 ...  0  0  0]\n",
      " [ 0 17  0 ...  0  0  0]\n",
      " [ 0  0 16 ...  0  0  0]\n",
      " ...\n",
      " [ 0  1  0 ...  7  0  0]\n",
      " [ 0  0  0 ...  0 11  1]\n",
      " [ 0  0  0 ...  0  0 17]]\n"
     ]
    }
   ],
   "source": [
    "print(\"Test Confusion Matrix:\\n\", confussion_matrix)"
   ]
  },
  {
   "cell_type": "markdown",
   "id": "5844c89e-f86b-4904-85d3-27ebd7bbf0ba",
   "metadata": {},
   "source": [
    "Precission"
   ]
  },
  {
   "cell_type": "code",
   "execution_count": 22,
   "id": "b716ee75-7860-48e5-9eac-2561f3da18a0",
   "metadata": {},
   "outputs": [],
   "source": [
    "precision = precision_score(y_true, y_pred, average='macro')"
   ]
  },
  {
   "cell_type": "code",
   "execution_count": 23,
   "id": "26919570-ae0b-4c68-a066-a7e738f0d43b",
   "metadata": {},
   "outputs": [
    {
     "name": "stdout",
     "output_type": "stream",
     "text": [
      "Test precision:\n",
      " 0.6503740801032813\n"
     ]
    }
   ],
   "source": [
    "print(\"Test precision:\\n\", precision)"
   ]
  },
  {
   "cell_type": "markdown",
   "id": "6fd6631d-fb3f-4b8d-813b-e175d2d0071b",
   "metadata": {},
   "source": [
    "Accuracy"
   ]
  },
  {
   "cell_type": "code",
   "execution_count": 25,
   "id": "59b77b69-238a-4859-910e-7829bbc6f316",
   "metadata": {},
   "outputs": [],
   "source": [
    "accuracy = accuracy_score(y_true, y_pred)"
   ]
  },
  {
   "cell_type": "code",
   "execution_count": 26,
   "id": "f677e282-1290-4ff3-8a9a-40334e0269a6",
   "metadata": {},
   "outputs": [
    {
     "name": "stdout",
     "output_type": "stream",
     "text": [
      "Test accuracy:\n",
      " 0.633\n"
     ]
    }
   ],
   "source": [
    "print(\"Test accuracy:\\n\", accuracy)"
   ]
  },
  {
   "cell_type": "markdown",
   "id": "6e4334c9-340f-4aac-aff1-4c11a291ac7f",
   "metadata": {},
   "source": [
    "F1 - Score"
   ]
  },
  {
   "cell_type": "code",
   "execution_count": 27,
   "id": "24a16187-13b1-492b-9b76-faee7a430e9d",
   "metadata": {},
   "outputs": [],
   "source": [
    "f1 = f1_score(y_true, y_pred, average='macro')"
   ]
  },
  {
   "cell_type": "code",
   "execution_count": 28,
   "id": "d21cd28a-31ce-4514-aa47-88ba5d7401a7",
   "metadata": {},
   "outputs": [
    {
     "name": "stdout",
     "output_type": "stream",
     "text": [
      "Test f1:\n",
      " 0.6318940634143402\n"
     ]
    }
   ],
   "source": [
    "print(\"Test f1:\\n\", f1)"
   ]
  },
  {
   "cell_type": "code",
   "execution_count": null,
   "id": "25bd4535-49d7-4e5f-b53d-2eebdc11ebd9",
   "metadata": {},
   "outputs": [],
   "source": []
  }
 ],
 "metadata": {
  "kernelspec": {
   "display_name": "Python 3 (ipykernel)",
   "language": "python",
   "name": "python3"
  },
  "language_info": {
   "codemirror_mode": {
    "name": "ipython",
    "version": 3
   },
   "file_extension": ".py",
   "mimetype": "text/x-python",
   "name": "python",
   "nbconvert_exporter": "python",
   "pygments_lexer": "ipython3",
   "version": "3.12.4"
  }
 },
 "nbformat": 4,
 "nbformat_minor": 5
}
